{
 "cells": [
  {
   "cell_type": "markdown",
   "metadata": {},
   "source": [
    "# Data Analysis\n",
    "\n",
    "## Data Analysis processes include:\n",
    "    1. Posing a question\n",
    "    2. Wrangling data into a format you can use and fixing any problems with it\n",
    "    3. Exploring the data, finding patterns in it, and building your intuition about it.\n",
    "    4. Drawing conculsions and/or making predictions.\n",
    "    5. Communicating your findings"
   ]
  },
  {
   "cell_type": "markdown",
   "metadata": {},
   "source": [
    "### Examples of Python Data Analysis Libraries\n",
    "    Numpy\n",
    "    Pandas\n",
    "    Matplotlib"
   ]
  },
  {
   "cell_type": "markdown",
   "metadata": {},
   "source": [
    "## Question Phase\n",
    "Examples\n",
    "- Characteristics of students who pass projects\n",
    "- How to stock a store"
   ]
  },
  {
   "cell_type": "markdown",
   "metadata": {},
   "source": [
    "## Wrangling Phase\n",
    "    1. Data acquisition\n",
    "    2. Data cleaning\n",
    "  To learn more about data wrangling, checkout this free udacity course\n",
    "  https://www.udacity.com/course/data-wrangling-with-mongodb--ud032?_ga=1.79543568.587032029.1458426814"
   ]
  },
  {
   "cell_type": "markdown",
   "metadata": {},
   "source": [
    "### Data Acquisition Methods\n",
    "\n",
    "- Downloading files\n",
    "- Accessing an API \n",
    "- Scrapping a webpage\n",
    "- Combine data from different formats\n",
    "\n",
    "### Data Format\n",
    "<b>CSV</b> - Comma Separated Values\n",
    "     - Like a spreadsheet with no formulas\n",
    "     - Easy to process with code (unlike .xlsx e.g. Microsoft Excel)\n",
    "  Python's documentation for CSV file reading and writing can be found at\n",
    "  https://docs.python.org/2/library/csv.html\n"
   ]
  },
  {
   "cell_type": "code",
   "execution_count": 4,
   "metadata": {
    "collapsed": true
   },
   "outputs": [],
   "source": [
    "# For this project I'm analyzing .csv files\n",
    "# with random selection of students who had \n",
    "# completed a project at the time the data was collected"
   ]
  },
  {
   "cell_type": "code",
   "execution_count": 3,
   "metadata": {
    "collapsed": true
   },
   "outputs": [],
   "source": [
    "## In Python the content of a csv file are commonly\n",
    "## represented as a list of rows\n",
    "\n",
    "# option 1: Each row is a list\n",
    "csv = [['A1', 'A2', 'A3'],\n",
    "       ['B1', 'B2', 'B3']]\n",
    "\n",
    "# option 2: Each row is a dictionary\n",
    "# This option works best if your file has a header\n",
    "# Thus the keys can be the column names while \n",
    "# the fields can be values.\n",
    "csv = [{'name1': 'A1', 'name2': 'A2', 'name3': 'A3'},\n",
    "      {'name1': 'B1', 'name2': 'B2', 'name3': 'B3'}]"
   ]
  },
  {
   "cell_type": "code",
   "execution_count": 23,
   "metadata": {
    "collapsed": false
   },
   "outputs": [
    {
     "data": {
      "text/plain": [
       "{u'account_key': u'448',\n",
       " u'cancel_date': u'2015-01-14',\n",
       " u'days_to_cancel': u'65',\n",
       " u'is_canceled': u'True',\n",
       " u'is_udacity': u'True',\n",
       " u'join_date': u'2014-11-10',\n",
       " u'status': u'canceled'}"
      ]
     },
     "execution_count": 23,
     "metadata": {},
     "output_type": "execute_result"
    }
   ],
   "source": [
    "import unicodecsv\n",
    "\n",
    "with open(\"enrollments.csv\", 'rb') as f:\n",
    "    reader = unicodecsv.DictReader(f)\n",
    "    enrollments = list(reader)\n",
    "    \n",
    "    \n",
    "enrollments[0]\n"
   ]
  },
  {
   "cell_type": "code",
   "execution_count": 1,
   "metadata": {
    "collapsed": false
   },
   "outputs": [
    {
     "name": "stdout",
     "output_type": "stream",
     "text": [
      "{u'lessons_completed': u'0.0', u'num_courses_visited': u'1.0', u'total_minutes_visited': u'11.6793745', u'projects_completed': u'0.0', u'acct': u'0', u'utc_date': u'2015-01-09'}\n"
     ]
    }
   ],
   "source": [
    "# create a function to read csv files\n",
    "import unicodecsv\n",
    "\n",
    "def read_csv(filename):\n",
    "    with open(filename, 'rb') as f:\n",
    "        # read data in dictionary format\n",
    "        reader = unicodecsv.DictReader(f)\n",
    "        # return data as a list of dictionary values\n",
    "        return list(reader)\n",
    "    \n",
    "\n",
    "daily_engagement = read_csv('daily_engagement.csv')\n",
    "print daily_engagement[0]\n",
    "\n",
    "#enrollments = read_csv('enrollments.csv')\n",
    "#print enrollments[0]\n",
    "#project_submissions = read_csv('project_submissions.csv') \n",
    "#print project_submissions[1] "
   ]
  },
  {
   "cell_type": "code",
   "execution_count": 39,
   "metadata": {
    "collapsed": false
   },
   "outputs": [
    {
     "name": "stdout",
     "output_type": "stream",
     "text": [
      "{u'status': u'canceled', u'is_udacity': u'True', u'is_canceled': u'True', u'join_date': u'2014-11-10', u'account_key': u'448', u'cancel_date': u'2015-01-14', u'days_to_cancel': u'65'}\n",
      "\n",
      "{u'lessons_completed': u'0.0', u'num_courses_visited': u'1.0', u'total_minutes_visited': u'11.6793745', u'projects_completed': u'0.0', u'acct': u'0', u'utc_date': u'2015-01-09'}\n",
      "\n",
      "{u'lesson_key': u'3176718735', u'processing_state': u'EVALUATED', u'account_key': u'256', u'assigned_rating': u'INCOMPLETE', u'completion_date': u'2015-01-13', u'creation_date': u'2015-01-10'}\n"
     ]
    }
   ],
   "source": [
    "import unicodecsv\n",
    "\n",
    "enrollments_filename = 'enrollments.csv'\n",
    "\n",
    "## Longer version of code (replaced with shorter, equivalent version below)\n",
    "\n",
    "# enrollments = []\n",
    "# f = open(enrollments_filename, 'rb')\n",
    "# reader = unicodecsv.DictReader(f)\n",
    "# for row in reader:\n",
    "#     enrollments.append(row)\n",
    "# f.close()\n",
    "\n",
    "with open(enrollments_filename, 'rb') as f:\n",
    "    reader = unicodecsv.DictReader(f)\n",
    "    enrollments = list(reader)\n",
    "\n",
    "print enrollments[0]\n",
    "print\n",
    "\n",
    "### Write code similar to the above to load the engagement\n",
    "### and submission data. The data is stored in files with\n",
    "### the given filenames. Then print the first row of each\n",
    "### table to make sure that your code works. You can use the\n",
    "### \"Test Run\" button to see the output of your code.\n",
    "\n",
    "engagement_filename = 'daily_engagement.csv'\n",
    "submissions_filename = 'project_submissions.csv'\n",
    "\n",
    "def read_csv(filename):\n",
    "    with open(filename, 'rb') as f:\n",
    "        reader = unicodecsv.DictReader(f)\n",
    "        return list(reader)\n",
    "\n",
    "\n",
    "daily_engagement = read_csv(engagement_filename)\n",
    "print daily_engagement[0]\n",
    "print\n",
    "project_submissions = read_csv(submissions_filename)\n",
    "print project_submissions[1]\n",
    "\n",
    "\n"
   ]
  },
  {
   "cell_type": "markdown",
   "metadata": {},
   "source": [
    "## More Questions \n",
    "- How long it takes to submit project\n",
    "- How do students who pass their projects differ from those who don't?\n",
    "- How much time students spend taking classes\n",
    "- How time spent relates to lessons/projects completed\n",
    "- How engagement changes \n",
    "\n",
    " These are all valid questions to ask and solve."
   ]
  },
  {
   "cell_type": "code",
   "execution_count": null,
   "metadata": {
    "collapsed": true
   },
   "outputs": [],
   "source": []
  }
 ],
 "metadata": {
  "kernelspec": {
   "display_name": "Python 2",
   "language": "python",
   "name": "python2"
  },
  "language_info": {
   "codemirror_mode": {
    "name": "ipython",
    "version": 2
   },
   "file_extension": ".py",
   "mimetype": "text/x-python",
   "name": "python",
   "nbconvert_exporter": "python",
   "pygments_lexer": "ipython2",
   "version": "2.7.11"
  }
 },
 "nbformat": 4,
 "nbformat_minor": 0
}
