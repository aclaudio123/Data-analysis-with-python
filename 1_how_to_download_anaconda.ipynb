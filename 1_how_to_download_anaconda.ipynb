{
 "cells": [
  {
   "cell_type": "markdown",
   "metadata": {},
   "source": [
    "# Anaconda\n",
    "\n",
    "Anaconda is an open data science platform powered by Python and includes over 100 popupar scienctific and analytic Python packages like NumPy, Pandas, Matplotlib, SciPy, and IPython.\n",
    "\n",
    "To install Anaconda:\n",
    "    - Navigate to http://continuum.io/downloads in your browser.\n",
    "    - Download the appropriate Python installer.\n",
    "    - On a PC, click the Windows icon and select \"Windows 64-Bit Python 2.7 or 3.5 Graphical Installer\". You can also select the 32-bit installer if you have a 32-bit machine.\n",
    "    - On Mac or Linux, follow the same process but select the appropriate installer for your platform.\n",
    "    - Run the installer and follow the instructions on the screen.\n",
    "    \n",
    "If you already have Anaconda, make sure it is up to date by opening your Command Prompt or terminal and running the commands:\n",
    "\n",
    "    conda update conda\n",
    "    conda update anaconda\n",
    "\n"
   ]
  },
  {
   "cell_type": "markdown",
   "metadata": {},
   "source": []
  }
 ],
 "metadata": {
  "kernelspec": {
   "display_name": "Python 2",
   "language": "python",
   "name": "python2"
  },
  "language_info": {
   "codemirror_mode": {
    "name": "ipython",
    "version": 2
   },
   "file_extension": ".py",
   "mimetype": "text/x-python",
   "name": "python",
   "nbconvert_exporter": "python",
   "pygments_lexer": "ipython2",
   "version": "2.7.11"
  }
 },
 "nbformat": 4,
 "nbformat_minor": 0
}
